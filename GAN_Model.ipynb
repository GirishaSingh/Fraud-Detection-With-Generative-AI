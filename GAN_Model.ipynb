{
  "nbformat": 4,
  "nbformat_minor": 0,
  "metadata": {
    "colab": {
      "provenance": [],
      "authorship_tag": "ABX9TyNnygPhnkQ0+0ooSdP4QzcH",
      "include_colab_link": true
    },
    "kernelspec": {
      "name": "python3",
      "display_name": "Python 3"
    },
    "language_info": {
      "name": "python"
    }
  },
  "cells": [
    {
      "cell_type": "markdown",
      "metadata": {
        "id": "view-in-github",
        "colab_type": "text"
      },
      "source": [
        "<a href=\"https://colab.research.google.com/github/GirishaSingh/Fraud-Detection-With-Generative-AI/blob/main/GAN_Model.ipynb\" target=\"_parent\"><img src=\"https://colab.research.google.com/assets/colab-badge.svg\" alt=\"Open In Colab\"/></a>"
      ]
    },
    {
      "cell_type": "code",
      "execution_count": 1,
      "metadata": {
        "id": "ue8hLQjXVMmE"
      },
      "outputs": [],
      "source": [
        "#GAN Model"
      ]
    },
    {
      "cell_type": "code",
      "source": [
        "import torch\n",
        "import torch.nn as nn\n",
        "import torch.optim as optim"
      ],
      "metadata": {
        "id": "WsnG_v_KVWBr"
      },
      "execution_count": 2,
      "outputs": []
    },
    {
      "cell_type": "code",
      "source": [
        "class Generator(nn.Module):\n",
        "    def __init__(self, input_dim, output_dim):\n",
        "        super(Generator, self).__init__()\n",
        "        self.model = nn.Sequential(\n",
        "            nn.Linear(input_dim, 128),\n",
        "            nn.ReLU(),\n",
        "            nn.Linear(128, output_dim),\n",
        "            nn.Tanh()\n",
        "        )\n",
        "\n",
        "    def forward(self, x):\n",
        "        return self.model(x)"
      ],
      "metadata": {
        "id": "YcRLBeNbVmc0"
      },
      "execution_count": 3,
      "outputs": []
    },
    {
      "cell_type": "code",
      "source": [
        "class Discriminator(nn.Module):\n",
        "    def __init__(self, input_dim):\n",
        "        super(Discriminator, self).__init__()\n",
        "        self.model = nn.Sequential(\n",
        "            nn.Linear(input_dim, 128),\n",
        "            nn.LeakyReLU(0.2),\n",
        "            nn.Linear(128, 1),\n",
        "            nn.Sigmoid()\n",
        "        )\n",
        "\n",
        "    def forward(self, x):\n",
        "        return self.model(x)"
      ],
      "metadata": {
        "id": "VPTVDll2VsgC"
      },
      "execution_count": 4,
      "outputs": []
    },
    {
      "cell_type": "code",
      "source": [
        "def train_gan(generator, discriminator, data_loader, num_epochs=100):\n",
        "    criterion = nn.BCELoss()\n",
        "    optimizer_g = optim.Adam(generator.parameters(), lr=0.0002)\n",
        "    optimizer_d = optim.Adam(discriminator.parameters(), lr=0.0002)\n",
        "\n",
        "    for epoch in range(num_epochs):\n",
        "        for real_data in data_loader:\n",
        "            # Train discriminator\n",
        "            optimizer_d.zero_grad()\n",
        "            real_labels = torch.ones(real_data.size(0), 1)\n",
        "            fake_data = generator(torch.randn(real_data.size(0), generator.input_dim))\n",
        "            fake_labels = torch.zeros(real_data.size(0), 1)\n",
        "            loss_d_real = criterion(discriminator(real_data), real_labels)\n",
        "            loss_d_fake = criterion(discriminator(fake_data.detach()), fake_labels)\n",
        "            loss_d = (loss_d_real + loss_d_fake) / 2\n",
        "            loss_d.backward()\n",
        "            optimizer_d.step()\n",
        "\n",
        "            # Train generator\n",
        "            optimizer_g.zero_grad()\n",
        "            loss_g = criterion(discriminator(fake_data), real_labels)\n",
        "            loss_g.backward()\n",
        "            optimizer_g.step()\n",
        "\n",
        "        if epoch % 10 == 0:\n",
        "            print(f'Epoch {epoch}/{num_epochs} - Loss D: {loss_d.item()}, Loss G: {loss_g.item()}')"
      ],
      "metadata": {
        "id": "dDu3CloEVx2y"
      },
      "execution_count": 5,
      "outputs": []
    },
    {
      "cell_type": "code",
      "source": [
        "generator = Generator(input_dim=100, output_dim=28*28)\n",
        "discriminator = Discriminator(input_dim=28*28)"
      ],
      "metadata": {
        "id": "YMceSkMZWDAW"
      },
      "execution_count": 6,
      "outputs": []
    },
    {
      "cell_type": "code",
      "source": [
        "# Now we can use the collected data for training\n",
        "# train_gan(generator, discriminator, data_loader)"
      ],
      "metadata": {
        "id": "jv3nOLDBWKr1"
      },
      "execution_count": 7,
      "outputs": []
    },
    {
      "cell_type": "code",
      "source": [],
      "metadata": {
        "id": "l_V8yOxtWWCy"
      },
      "execution_count": null,
      "outputs": []
    }
  ]
}